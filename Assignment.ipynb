{
 "cells": [
  {
   "cell_type": "code",
   "execution_count": null,
   "id": "46d5f92e-faaf-43ea-9175-1c852b2865df",
   "metadata": {},
   "outputs": [],
   "source": [
    "1. Who doveloped python Programming Language? \n",
    "Ans. Guido van Rossum"
   ]
  },
  {
   "cell_type": "code",
   "execution_count": 1,
   "id": "9a15d79a-8681-4dca-a8c3-673efa943480",
   "metadata": {},
   "outputs": [
    {
     "name": "stdout",
     "output_type": "stream",
     "text": [
      "Object `support` not found.\n"
     ]
    }
   ],
   "source": [
    "2. Which type of programming does python support?\n",
    "Ans. Object-oriented programming and structured programming"
   ]
  },
  {
   "cell_type": "code",
   "execution_count": null,
   "id": "a81f0168-01dd-414b-97c7-f2159e0a30c4",
   "metadata": {},
   "outputs": [],
   "source": [
    "3. Is python case sensitive when dealing with identifiers?\n",
    "Ans. Yes"
   ]
  },
  {
   "cell_type": "code",
   "execution_count": null,
   "id": "86112c9a-8f3d-4282-8ec5-447bb353f52e",
   "metadata": {
    "tags": []
   },
   "outputs": [],
   "source": [
    "4. What is the correct extension of the python fiie? \n",
    "Ans. py. , pyi,"
   ]
  },
  {
   "cell_type": "code",
   "execution_count": null,
   "id": "b6f27c50-5c82-4481-b7b5-5456e7a39968",
   "metadata": {},
   "outputs": [],
   "source": [
    "5. Is python coda compilad or interpreted?\n",
    "Ans. interpreted language"
   ]
  },
  {
   "cell_type": "code",
   "execution_count": null,
   "id": "a8982007-f92e-42a3-98fb-642ed796ef08",
   "metadata": {
    "tags": []
   },
   "outputs": [],
   "source": [
    "6. Name a few blocks of code used to define in python language?\n",
    "Ans. Braces {}"
   ]
  },
  {
   "cell_type": "code",
   "execution_count": null,
   "id": "cd417c58-99c9-4f4e-9c33-d1778edc6688",
   "metadata": {},
   "outputs": [],
   "source": [
    "7. State a character used to give single—line comments in python?\n",
    "Ans. single (#) "
   ]
  },
  {
   "cell_type": "code",
   "execution_count": null,
   "id": "e993a811-96bd-46a2-8ea6-557074478bf8",
   "metadata": {},
   "outputs": [],
   "source": [
    "8. Mention functions which can help us ea find the version of python that we are currently working on?\n",
    "Ans. sys. version "
   ]
  },
  {
   "cell_type": "code",
   "execution_count": null,
   "id": "f5e486e9-4682-4523-bd68-5248b3bb4d6c",
   "metadata": {},
   "outputs": [],
   "source": [
    "9.\tpython supports the creation of anonymous functions at runtime, using a construct called?\n",
    "Ans. lambda"
   ]
  },
  {
   "cell_type": "code",
   "execution_count": null,
   "id": "287398b4-70d7-4b28-9701-12b18e5dab56",
   "metadata": {},
   "outputs": [],
   "source": [
    "10.\tWhat does pip stand for python?\n",
    "Ans. preferred installer program"
   ]
  },
  {
   "cell_type": "code",
   "execution_count": null,
   "id": "5834909d-294c-408a-b394-947d71da9230",
   "metadata": {},
   "outputs": [],
   "source": [
    "11. Mention a low built—in functions in python?\n",
    "Ans any(), bool(), chr(),dict(), float(), hasattr()\n"
   ]
  },
  {
   "cell_type": "code",
   "execution_count": null,
   "id": "7a842581-f5ee-42b7-a4f8-b16f32b94529",
   "metadata": {},
   "outputs": [],
   "source": [
    "12.\tWhat is the maximum possible length of an identifier in Python?\n",
    "Ans. 79 characters"
   ]
  },
  {
   "cell_type": "code",
   "execution_count": null,
   "id": "dd85a7f7-b4c8-4394-b8da-c607a1d7ef13",
   "metadata": {},
   "outputs": [],
   "source": [
    "13.\tWhat are the benefits of using Python?\n",
    "Ans. Data science, Basic game development, Finance and trading, Web development, Security and penetration testing."
   ]
  },
  {
   "cell_type": "code",
   "execution_count": null,
   "id": "3439ab40-8423-4903-ae49-930d262b4d2f",
   "metadata": {},
   "outputs": [],
   "source": [
    "14.\tHow is memory managed in Python?\n",
    "Ans. Python private heap space."
   ]
  },
  {
   "cell_type": "code",
   "execution_count": 2,
   "id": "1de47c65-a83b-4829-bc98-aaae5455d223",
   "metadata": {},
   "outputs": [
    {
     "name": "stdout",
     "output_type": "stream",
     "text": [
      "Object `variables` not found.\n"
     ]
    }
   ],
   "source": [
    "15. How to install Python on Windows and set path variables?\n",
    "Ans. Right-clicking This PC and going to Properties.\n",
    "\n",
    "Clicking on the Advanced system settings in the menu on the left.\n",
    "\n",
    "Clicking on the Environment Variables button o​n the bottom right.\n",
    "\n",
    "In the System variables section, selecting the Path variable and clicking on Edit. The next screen will show all the directories that are currently a part of the PATH variable.\n",
    "\n",
    "Clicking on New and entering Python’s install directory."
   ]
  },
  {
   "cell_type": "code",
   "execution_count": null,
   "id": "c8bbc4d2-72ce-41d1-b8c3-b401dec3d944",
   "metadata": {},
   "outputs": [],
   "source": [
    "16. Is indentation required in python?"
   ]
  },
  {
   "cell_type": "code",
   "execution_count": null,
   "id": "8c8e7b38-abb0-44de-8f12-edc48173dfa6",
   "metadata": {},
   "outputs": [],
   "source": []
  },
  {
   "cell_type": "code",
   "execution_count": null,
   "id": "3ffdb147-68d7-4c8d-bd31-6f47906260f1",
   "metadata": {},
   "outputs": [],
   "source": []
  },
  {
   "cell_type": "code",
   "execution_count": null,
   "id": "dfed021b-bfdc-4140-9441-35160536873f",
   "metadata": {},
   "outputs": [],
   "source": []
  },
  {
   "cell_type": "code",
   "execution_count": null,
   "id": "b7d97f19-948d-49c9-a891-4e2391303924",
   "metadata": {},
   "outputs": [],
   "source": []
  },
  {
   "cell_type": "code",
   "execution_count": null,
   "id": "d3dfa62a-a040-4aa4-a2e7-9f580656c576",
   "metadata": {},
   "outputs": [],
   "source": []
  },
  {
   "cell_type": "code",
   "execution_count": null,
   "id": "44ca79d9-8aaa-487f-abb1-1891c2796af2",
   "metadata": {},
   "outputs": [],
   "source": []
  },
  {
   "cell_type": "code",
   "execution_count": null,
   "id": "f39d3ae4-dcd0-4e20-908f-82206bd22ddc",
   "metadata": {},
   "outputs": [],
   "source": []
  }
 ],
 "metadata": {
  "kernelspec": {
   "display_name": "Python 3 (ipykernel)",
   "language": "python",
   "name": "python3"
  },
  "language_info": {
   "codemirror_mode": {
    "name": "ipython",
    "version": 3
   },
   "file_extension": ".py",
   "mimetype": "text/x-python",
   "name": "python",
   "nbconvert_exporter": "python",
   "pygments_lexer": "ipython3",
   "version": "3.10.8"
  }
 },
 "nbformat": 4,
 "nbformat_minor": 5
}
